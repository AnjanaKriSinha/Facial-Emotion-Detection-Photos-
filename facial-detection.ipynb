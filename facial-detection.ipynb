{
 "cells": [
  {
   "cell_type": "code",
   "execution_count": 1,
   "id": "6c202315",
   "metadata": {
    "_cell_guid": "b1076dfc-b9ad-4769-8c92-a6c4dae69d19",
    "_uuid": "8f2839f25d086af736a60e9eeb907d3b93b6e0e5",
    "execution": {
     "iopub.execute_input": "2023-12-31T13:26:37.015720Z",
     "iopub.status.busy": "2023-12-31T13:26:37.015337Z",
     "iopub.status.idle": "2023-12-31T13:26:37.886532Z",
     "shell.execute_reply": "2023-12-31T13:26:37.885613Z"
    },
    "papermill": {
     "duration": 0.885095,
     "end_time": "2023-12-31T13:26:37.888973",
     "exception": false,
     "start_time": "2023-12-31T13:26:37.003878",
     "status": "completed"
    },
    "tags": []
   },
   "outputs": [],
   "source": [
    "import numpy as np \n",
    "import pandas as pd \n",
    "import cv2"
   ]
  },
  {
   "cell_type": "code",
   "execution_count": 2,
   "id": "d50406fc",
   "metadata": {
    "execution": {
     "iopub.execute_input": "2023-12-31T13:26:37.909397Z",
     "iopub.status.busy": "2023-12-31T13:26:37.908878Z",
     "iopub.status.idle": "2023-12-31T13:26:43.145165Z",
     "shell.execute_reply": "2023-12-31T13:26:43.144379Z"
    },
    "papermill": {
     "duration": 5.24899,
     "end_time": "2023-12-31T13:26:43.147499",
     "exception": false,
     "start_time": "2023-12-31T13:26:37.898509",
     "status": "completed"
    },
    "tags": []
   },
   "outputs": [],
   "source": [
    "df = pd.read_csv('../input/facial-expression/fer2013.csv')"
   ]
  },
  {
   "cell_type": "code",
   "execution_count": 3,
   "id": "875f86e0",
   "metadata": {
    "execution": {
     "iopub.execute_input": "2023-12-31T13:26:43.167346Z",
     "iopub.status.busy": "2023-12-31T13:26:43.167029Z",
     "iopub.status.idle": "2023-12-31T13:26:43.184464Z",
     "shell.execute_reply": "2023-12-31T13:26:43.183637Z"
    },
    "papermill": {
     "duration": 0.029383,
     "end_time": "2023-12-31T13:26:43.186358",
     "exception": false,
     "start_time": "2023-12-31T13:26:43.156975",
     "status": "completed"
    },
    "tags": []
   },
   "outputs": [
    {
     "data": {
      "text/html": [
       "<div>\n",
       "<style scoped>\n",
       "    .dataframe tbody tr th:only-of-type {\n",
       "        vertical-align: middle;\n",
       "    }\n",
       "\n",
       "    .dataframe tbody tr th {\n",
       "        vertical-align: top;\n",
       "    }\n",
       "\n",
       "    .dataframe thead th {\n",
       "        text-align: right;\n",
       "    }\n",
       "</style>\n",
       "<table border=\"1\" class=\"dataframe\">\n",
       "  <thead>\n",
       "    <tr style=\"text-align: right;\">\n",
       "      <th></th>\n",
       "      <th>emotion</th>\n",
       "      <th>pixels</th>\n",
       "      <th>Usage</th>\n",
       "    </tr>\n",
       "  </thead>\n",
       "  <tbody>\n",
       "    <tr>\n",
       "      <th>0</th>\n",
       "      <td>0</td>\n",
       "      <td>70 80 82 72 58 58 60 63 54 58 60 48 89 115 121...</td>\n",
       "      <td>Training</td>\n",
       "    </tr>\n",
       "    <tr>\n",
       "      <th>1</th>\n",
       "      <td>0</td>\n",
       "      <td>151 150 147 155 148 133 111 140 170 174 182 15...</td>\n",
       "      <td>Training</td>\n",
       "    </tr>\n",
       "    <tr>\n",
       "      <th>2</th>\n",
       "      <td>2</td>\n",
       "      <td>231 212 156 164 174 138 161 173 182 200 106 38...</td>\n",
       "      <td>Training</td>\n",
       "    </tr>\n",
       "    <tr>\n",
       "      <th>3</th>\n",
       "      <td>4</td>\n",
       "      <td>24 32 36 30 32 23 19 20 30 41 21 22 32 34 21 1...</td>\n",
       "      <td>Training</td>\n",
       "    </tr>\n",
       "    <tr>\n",
       "      <th>4</th>\n",
       "      <td>6</td>\n",
       "      <td>4 0 0 0 0 0 0 0 0 0 0 0 3 15 23 28 48 50 58 84...</td>\n",
       "      <td>Training</td>\n",
       "    </tr>\n",
       "  </tbody>\n",
       "</table>\n",
       "</div>"
      ],
      "text/plain": [
       "   emotion                                             pixels     Usage\n",
       "0        0  70 80 82 72 58 58 60 63 54 58 60 48 89 115 121...  Training\n",
       "1        0  151 150 147 155 148 133 111 140 170 174 182 15...  Training\n",
       "2        2  231 212 156 164 174 138 161 173 182 200 106 38...  Training\n",
       "3        4  24 32 36 30 32 23 19 20 30 41 21 22 32 34 21 1...  Training\n",
       "4        6  4 0 0 0 0 0 0 0 0 0 0 0 3 15 23 28 48 50 58 84...  Training"
      ]
     },
     "execution_count": 3,
     "metadata": {},
     "output_type": "execute_result"
    }
   ],
   "source": [
    "df.head()"
   ]
  },
  {
   "cell_type": "code",
   "execution_count": 4,
   "id": "8b67303a",
   "metadata": {
    "execution": {
     "iopub.execute_input": "2023-12-31T13:26:43.210005Z",
     "iopub.status.busy": "2023-12-31T13:26:43.209708Z",
     "iopub.status.idle": "2023-12-31T13:26:43.218372Z",
     "shell.execute_reply": "2023-12-31T13:26:43.217306Z"
    },
    "papermill": {
     "duration": 0.024877,
     "end_time": "2023-12-31T13:26:43.221306",
     "exception": false,
     "start_time": "2023-12-31T13:26:43.196429",
     "status": "completed"
    },
    "tags": []
   },
   "outputs": [
    {
     "data": {
      "text/plain": [
       "2304"
      ]
     },
     "execution_count": 4,
     "metadata": {},
     "output_type": "execute_result"
    }
   ],
   "source": [
    "len(df.iloc[0]['pixels'].split())\n",
    "# 48 * 48"
   ]
  },
  {
   "cell_type": "code",
   "execution_count": 5,
   "id": "a6b5bfe8",
   "metadata": {
    "execution": {
     "iopub.execute_input": "2023-12-31T13:26:43.248756Z",
     "iopub.status.busy": "2023-12-31T13:26:43.248453Z",
     "iopub.status.idle": "2023-12-31T13:26:43.252288Z",
     "shell.execute_reply": "2023-12-31T13:26:43.251475Z"
    },
    "papermill": {
     "duration": 0.019295,
     "end_time": "2023-12-31T13:26:43.254165",
     "exception": false,
     "start_time": "2023-12-31T13:26:43.234870",
     "status": "completed"
    },
    "tags": []
   },
   "outputs": [],
   "source": [
    "label_map = ['Anger', 'Neutral', 'Fear', 'Happy', 'Sad', 'Surprise']"
   ]
  },
  {
   "cell_type": "code",
   "execution_count": 6,
   "id": "cd8926d5",
   "metadata": {
    "execution": {
     "iopub.execute_input": "2023-12-31T13:26:43.275990Z",
     "iopub.status.busy": "2023-12-31T13:26:43.275724Z",
     "iopub.status.idle": "2023-12-31T13:26:43.279808Z",
     "shell.execute_reply": "2023-12-31T13:26:43.278904Z"
    },
    "papermill": {
     "duration": 0.018442,
     "end_time": "2023-12-31T13:26:43.281766",
     "exception": false,
     "start_time": "2023-12-31T13:26:43.263324",
     "status": "completed"
    },
    "tags": []
   },
   "outputs": [],
   "source": [
    "import matplotlib.pyplot as plt"
   ]
  },
  {
   "cell_type": "code",
   "execution_count": 7,
   "id": "bc744ed3",
   "metadata": {
    "execution": {
     "iopub.execute_input": "2023-12-31T13:26:43.308972Z",
     "iopub.status.busy": "2023-12-31T13:26:43.308570Z",
     "iopub.status.idle": "2023-12-31T13:26:43.314118Z",
     "shell.execute_reply": "2023-12-31T13:26:43.312967Z"
    },
    "papermill": {
     "duration": 0.023959,
     "end_time": "2023-12-31T13:26:43.316576",
     "exception": false,
     "start_time": "2023-12-31T13:26:43.292617",
     "status": "completed"
    },
    "tags": []
   },
   "outputs": [],
   "source": [
    "img = df.iloc[0]['pixels'].split()"
   ]
  },
  {
   "cell_type": "code",
   "execution_count": 8,
   "id": "c8021d20",
   "metadata": {
    "execution": {
     "iopub.execute_input": "2023-12-31T13:26:43.342165Z",
     "iopub.status.busy": "2023-12-31T13:26:43.341839Z",
     "iopub.status.idle": "2023-12-31T13:26:43.346582Z",
     "shell.execute_reply": "2023-12-31T13:26:43.345714Z"
    },
    "papermill": {
     "duration": 0.020018,
     "end_time": "2023-12-31T13:26:43.348592",
     "exception": false,
     "start_time": "2023-12-31T13:26:43.328574",
     "status": "completed"
    },
    "tags": []
   },
   "outputs": [],
   "source": [
    "img = [int(i) for i in img]"
   ]
  },
  {
   "cell_type": "code",
   "execution_count": 9,
   "id": "b0de9b6c",
   "metadata": {
    "execution": {
     "iopub.execute_input": "2023-12-31T13:26:43.369249Z",
     "iopub.status.busy": "2023-12-31T13:26:43.368891Z",
     "iopub.status.idle": "2023-12-31T13:26:43.374771Z",
     "shell.execute_reply": "2023-12-31T13:26:43.373914Z"
    },
    "papermill": {
     "duration": 0.018348,
     "end_time": "2023-12-31T13:26:43.376705",
     "exception": false,
     "start_time": "2023-12-31T13:26:43.358357",
     "status": "completed"
    },
    "tags": []
   },
   "outputs": [
    {
     "data": {
      "text/plain": [
       "int"
      ]
     },
     "execution_count": 9,
     "metadata": {},
     "output_type": "execute_result"
    }
   ],
   "source": [
    "type(img[0])"
   ]
  },
  {
   "cell_type": "code",
   "execution_count": 10,
   "id": "0b1ddc74",
   "metadata": {
    "execution": {
     "iopub.execute_input": "2023-12-31T13:26:43.396955Z",
     "iopub.status.busy": "2023-12-31T13:26:43.396623Z",
     "iopub.status.idle": "2023-12-31T13:26:43.402192Z",
     "shell.execute_reply": "2023-12-31T13:26:43.401419Z"
    },
    "papermill": {
     "duration": 0.017884,
     "end_time": "2023-12-31T13:26:43.404095",
     "exception": false,
     "start_time": "2023-12-31T13:26:43.386211",
     "status": "completed"
    },
    "tags": []
   },
   "outputs": [
    {
     "data": {
      "text/plain": [
       "2304"
      ]
     },
     "execution_count": 10,
     "metadata": {},
     "output_type": "execute_result"
    }
   ],
   "source": [
    "len(img)"
   ]
  },
  {
   "cell_type": "code",
   "execution_count": 11,
   "id": "9a3fc4ef",
   "metadata": {
    "execution": {
     "iopub.execute_input": "2023-12-31T13:26:43.425203Z",
     "iopub.status.busy": "2023-12-31T13:26:43.424862Z",
     "iopub.status.idle": "2023-12-31T13:26:43.429212Z",
     "shell.execute_reply": "2023-12-31T13:26:43.428445Z"
    },
    "papermill": {
     "duration": 0.016712,
     "end_time": "2023-12-31T13:26:43.431074",
     "exception": false,
     "start_time": "2023-12-31T13:26:43.414362",
     "status": "completed"
    },
    "tags": []
   },
   "outputs": [],
   "source": [
    "img = np.array(img)"
   ]
  },
  {
   "cell_type": "code",
   "execution_count": 12,
   "id": "d980c896",
   "metadata": {
    "execution": {
     "iopub.execute_input": "2023-12-31T13:26:43.451569Z",
     "iopub.status.busy": "2023-12-31T13:26:43.451236Z",
     "iopub.status.idle": "2023-12-31T13:26:43.455372Z",
     "shell.execute_reply": "2023-12-31T13:26:43.454584Z"
    },
    "papermill": {
     "duration": 0.016757,
     "end_time": "2023-12-31T13:26:43.457290",
     "exception": false,
     "start_time": "2023-12-31T13:26:43.440533",
     "status": "completed"
    },
    "tags": []
   },
   "outputs": [],
   "source": [
    "img = img.reshape(48,48)"
   ]
  },
  {
   "cell_type": "code",
   "execution_count": 13,
   "id": "4e1e0f12",
   "metadata": {
    "execution": {
     "iopub.execute_input": "2023-12-31T13:26:43.478093Z",
     "iopub.status.busy": "2023-12-31T13:26:43.477281Z",
     "iopub.status.idle": "2023-12-31T13:26:43.483022Z",
     "shell.execute_reply": "2023-12-31T13:26:43.482182Z"
    },
    "papermill": {
     "duration": 0.018192,
     "end_time": "2023-12-31T13:26:43.485025",
     "exception": false,
     "start_time": "2023-12-31T13:26:43.466833",
     "status": "completed"
    },
    "tags": []
   },
   "outputs": [
    {
     "data": {
      "text/plain": [
       "(48, 48)"
      ]
     },
     "execution_count": 13,
     "metadata": {},
     "output_type": "execute_result"
    }
   ],
   "source": [
    "img.shape"
   ]
  },
  {
   "cell_type": "code",
   "execution_count": 14,
   "id": "e23103ab",
   "metadata": {
    "execution": {
     "iopub.execute_input": "2023-12-31T13:26:43.505855Z",
     "iopub.status.busy": "2023-12-31T13:26:43.505500Z",
     "iopub.status.idle": "2023-12-31T13:26:43.713028Z",
     "shell.execute_reply": "2023-12-31T13:26:43.712115Z"
    },
    "papermill": {
     "duration": 0.220354,
     "end_time": "2023-12-31T13:26:43.715158",
     "exception": false,
     "start_time": "2023-12-31T13:26:43.494804",
     "status": "completed"
    },
    "tags": []
   },
   "outputs": [
    {
     "data": {
      "text/plain": [
       "Text(0.5, 0, '0')"
      ]
     },
     "execution_count": 14,
     "metadata": {},
     "output_type": "execute_result"
    },
    {
     "data": {
      "image/png": "[encoded data removed]",
      "text/plain": [
       "<Figure size 640x480 with 1 Axes>"
      ]
     },
     "metadata": {},
     "output_type": "display_data"
    }
   ],
   "source": [
    "plt.imshow(img, cmap='gray')\n",
    "plt.xlabel(df.iloc[0]['emotion'])"
   ]
  },
  {
   "cell_type": "code",
   "execution_count": 15,
   "id": "6cd126a6",
   "metadata": {
    "execution": {
     "iopub.execute_input": "2023-12-31T13:26:43.736923Z",
     "iopub.status.busy": "2023-12-31T13:26:43.736549Z",
     "iopub.status.idle": "2023-12-31T13:26:43.740743Z",
     "shell.execute_reply": "2023-12-31T13:26:43.739866Z"
    },
    "papermill": {
     "duration": 0.017225,
     "end_time": "2023-12-31T13:26:43.742590",
     "exception": false,
     "start_time": "2023-12-31T13:26:43.725365",
     "status": "completed"
    },
    "tags": []
   },
   "outputs": [],
   "source": [
    "X = []\n",
    "y = []"
   ]
  },
  {
   "cell_type": "code",
   "execution_count": 16,
   "id": "1d58be59",
   "metadata": {
    "execution": {
     "iopub.execute_input": "2023-12-31T13:26:43.764722Z",
     "iopub.status.busy": "2023-12-31T13:26:43.763938Z",
     "iopub.status.idle": "2023-12-31T13:26:43.779536Z",
     "shell.execute_reply": "2023-12-31T13:26:43.778639Z"
    },
    "papermill": {
     "duration": 0.0287,
     "end_time": "2023-12-31T13:26:43.781537",
     "exception": false,
     "start_time": "2023-12-31T13:26:43.752837",
     "status": "completed"
    },
    "tags": []
   },
   "outputs": [],
   "source": [
    "def getData(path):\n",
    "    anger = 0\n",
    "    fear = 0\n",
    "    sad = 0\n",
    "    happy = 0\n",
    "    surprise = 0\n",
    "    neutral = 0\n",
    "    df = pd.read_csv(path)\n",
    "    \n",
    "    X = []\n",
    "    y = []    \n",
    "    \n",
    "    for i in range(len(df)):\n",
    "        if df.iloc[i]['emotion'] != 1:\n",
    "            if df.iloc[i]['emotion'] == 0:\n",
    "                if anger <= 4000:            \n",
    "                    y.append(df.iloc[i]['emotion'])\n",
    "                    im = df.iloc[i]['pixels']\n",
    "                    im = [int(x) for x in im.split()]\n",
    "                    X.append(im)\n",
    "                    anger += 1\n",
    "                else:\n",
    "                    pass\n",
    "                \n",
    "            if df.iloc[i]['emotion'] == 2:\n",
    "                if fear <= 4000:            \n",
    "                    y.append(df.iloc[i]['emotion'])\n",
    "                    im = df.iloc[i]['pixels']\n",
    "                    im = [int(x) for x in im.split()]\n",
    "                    X.append(im)\n",
    "                    fear += 1\n",
    "                else:\n",
    "                    pass\n",
    "                \n",
    "            if df.iloc[i]['emotion'] == 3:\n",
    "                if happy <= 4000:            \n",
    "                    y.append(df.iloc[i]['emotion'])\n",
    "                    im = df.iloc[i]['pixels']\n",
    "                    im = [int(x) for x in im.split()]\n",
    "                    X.append(im)\n",
    "                    happy += 1\n",
    "                else:\n",
    "                    pass\n",
    "                \n",
    "            if df.iloc[i]['emotion'] == 4:\n",
    "                if sad <= 4000:            \n",
    "                    y.append(df.iloc[i]['emotion'])\n",
    "                    im = df.iloc[i]['pixels']\n",
    "                    im = [int(x) for x in im.split()]\n",
    "                    X.append(im)\n",
    "                    sad += 1\n",
    "                else:\n",
    "                    pass\n",
    "                \n",
    "            if df.iloc[i]['emotion'] == 5:\n",
    "                if surprise <= 4000:            \n",
    "                    y.append(df.iloc[i]['emotion'])\n",
    "                    im = df.iloc[i]['pixels']\n",
    "                    im = [int(x) for x in im.split()]\n",
    "                    X.append(im)\n",
    "                    surprise += 1\n",
    "                else:\n",
    "                    pass\n",
    "                \n",
    "            if df.iloc[i]['emotion'] == 6:\n",
    "                if neutral <= 4000:            \n",
    "                    y.append(df.iloc[i]['emotion'])\n",
    "                    im = df.iloc[i]['pixels']\n",
    "                    im = [int(x) for x in im.split()]\n",
    "                    X.append(im)\n",
    "                    neutral += 1\n",
    "                else:\n",
    "                    pass\n",
    "\n",
    "            \n",
    "            \n",
    "    return X, y  \n",
    "    "
   ]
  },
  {
   "cell_type": "code",
   "execution_count": 17,
   "id": "7954e540",
   "metadata": {
    "execution": {
     "iopub.execute_input": "2023-12-31T13:26:43.803441Z",
     "iopub.status.busy": "2023-12-31T13:26:43.803125Z",
     "iopub.status.idle": "2023-12-31T13:27:13.762426Z",
     "shell.execute_reply": "2023-12-31T13:27:13.761638Z"
    },
    "papermill": {
     "duration": 29.972827,
     "end_time": "2023-12-31T13:27:13.764745",
     "exception": false,
     "start_time": "2023-12-31T13:26:43.791918",
     "status": "completed"
    },
    "tags": []
   },
   "outputs": [],
   "source": [
    "X, y = getData('../input/facial-expression/fer2013.csv')"
   ]
  },
  {
   "cell_type": "code",
   "execution_count": 18,
   "id": "8fb7a99a",
   "metadata": {
    "execution": {
     "iopub.execute_input": "2023-12-31T13:27:13.786774Z",
     "iopub.status.busy": "2023-12-31T13:27:13.786249Z",
     "iopub.status.idle": "2023-12-31T13:27:13.794902Z",
     "shell.execute_reply": "2023-12-31T13:27:13.794030Z"
    },
    "papermill": {
     "duration": 0.021459,
     "end_time": "2023-12-31T13:27:13.796801",
     "exception": false,
     "start_time": "2023-12-31T13:27:13.775342",
     "status": "completed"
    },
    "tags": []
   },
   "outputs": [
    {
     "data": {
      "text/plain": [
       "(array([0, 2, 3, 4, 5, 6]), array([4001, 4001, 4001, 4001, 4001, 4001]))"
      ]
     },
     "execution_count": 18,
     "metadata": {},
     "output_type": "execute_result"
    }
   ],
   "source": [
    "np.unique(y, return_counts=True)"
   ]
  },
  {
   "cell_type": "code",
   "execution_count": 19,
   "id": "96274e9a",
   "metadata": {
    "execution": {
     "iopub.execute_input": "2023-12-31T13:27:13.818006Z",
     "iopub.status.busy": "2023-12-31T13:27:13.817735Z",
     "iopub.status.idle": "2023-12-31T13:27:18.916861Z",
     "shell.execute_reply": "2023-12-31T13:27:18.915771Z"
    },
    "papermill": {
     "duration": 5.112425,
     "end_time": "2023-12-31T13:27:18.919225",
     "exception": false,
     "start_time": "2023-12-31T13:27:13.806800",
     "status": "completed"
    },
    "tags": []
   },
   "outputs": [],
   "source": [
    "X = np.array(X)/255.0\n",
    "y = np.array(y)"
   ]
  },
  {
   "cell_type": "code",
   "execution_count": 20,
   "id": "8c7092cd",
   "metadata": {
    "execution": {
     "iopub.execute_input": "2023-12-31T13:27:18.951440Z",
     "iopub.status.busy": "2023-12-31T13:27:18.950471Z",
     "iopub.status.idle": "2023-12-31T13:27:18.957383Z",
     "shell.execute_reply": "2023-12-31T13:27:18.956457Z"
    },
    "papermill": {
     "duration": 0.023166,
     "end_time": "2023-12-31T13:27:18.959700",
     "exception": false,
     "start_time": "2023-12-31T13:27:18.936534",
     "status": "completed"
    },
    "tags": []
   },
   "outputs": [
    {
     "data": {
      "text/plain": [
       "((24006, 2304), (24006,))"
      ]
     },
     "execution_count": 20,
     "metadata": {},
     "output_type": "execute_result"
    }
   ],
   "source": [
    "X.shape, y.shape"
   ]
  },
  {
   "cell_type": "code",
   "execution_count": 21,
   "id": "5f561b6e",
   "metadata": {
    "execution": {
     "iopub.execute_input": "2023-12-31T13:27:18.989210Z",
     "iopub.status.busy": "2023-12-31T13:27:18.988457Z",
     "iopub.status.idle": "2023-12-31T13:27:19.002492Z",
     "shell.execute_reply": "2023-12-31T13:27:19.001435Z"
    },
    "papermill": {
     "duration": 0.030108,
     "end_time": "2023-12-31T13:27:19.004755",
     "exception": false,
     "start_time": "2023-12-31T13:27:18.974647",
     "status": "completed"
    },
    "tags": []
   },
   "outputs": [],
   "source": [
    "y_o = []\n",
    "for i in y:\n",
    "    if i != 6:\n",
    "        y_o.append(i)\n",
    "        \n",
    "    else:\n",
    "        y_o.append(1)"
   ]
  },
  {
   "cell_type": "code",
   "execution_count": 22,
   "id": "ea0e2016",
   "metadata": {
    "execution": {
     "iopub.execute_input": "2023-12-31T13:27:19.028255Z",
     "iopub.status.busy": "2023-12-31T13:27:19.027890Z",
     "iopub.status.idle": "2023-12-31T13:27:20.158161Z",
     "shell.execute_reply": "2023-12-31T13:27:20.157065Z"
    },
    "papermill": {
     "duration": 1.145765,
     "end_time": "2023-12-31T13:27:20.161504",
     "exception": false,
     "start_time": "2023-12-31T13:27:19.015739",
     "status": "completed"
    },
    "tags": []
   },
   "outputs": [
    {
     "data": {
      "image/png": "[encoded data removed]",
      "text/plain": [
       "<Figure size 640x480 with 1 Axes>"
      ]
     },
     "metadata": {},
     "output_type": "display_data"
    },
    {
     "data": {
      "image/png": "[encoded data removed]",
      "text/plain": [
       "<Figure size 640x480 with 1 Axes>"
      ]
     },
     "metadata": {},
     "output_type": "display_data"
    },
    {
     "data": {
      "image/png": "[encoded data removed]",
      "text/plain": [
       "<Figure size 640x480 with 1 Axes>"
      ]
     },
     "metadata": {},
     "output_type": "display_data"
    },
    {
     "data": {
      "image/png": "[encoded data removed]",
      "text/plain": [
       "<Figure size 640x480 with 1 Axes>"
      ]
     },
     "metadata": {},
     "output_type": "display_data"
    },
    {
     "data": {
      "image/png": "[encoded data removed]",
      "text/plain": [
       "<Figure size 640x480 with 1 Axes>"
      ]
     },
     "metadata": {},
     "output_type": "display_data"
    }
   ],
   "source": [
    "for i in range(5):\n",
    "    r = np.random.randint((1), 24000, 1)[0]\n",
    "    plt.figure()\n",
    "    plt.imshow(X[r].reshape(48,48), cmap='gray')\n",
    "    plt.xlabel(label_map[y_o[r]])"
   ]
  },
  {
   "cell_type": "code",
   "execution_count": 23,
   "id": "9dfeb71e",
   "metadata": {
    "execution": {
     "iopub.execute_input": "2023-12-31T13:27:20.189325Z",
     "iopub.status.busy": "2023-12-31T13:27:20.188921Z",
     "iopub.status.idle": "2023-12-31T13:27:20.198015Z",
     "shell.execute_reply": "2023-12-31T13:27:20.197092Z"
    },
    "papermill": {
     "duration": 0.024772,
     "end_time": "2023-12-31T13:27:20.199990",
     "exception": false,
     "start_time": "2023-12-31T13:27:20.175218",
     "status": "completed"
    },
    "tags": []
   },
   "outputs": [
    {
     "data": {
      "text/plain": [
       "(array([0, 1, 2, 3, 4, 5]), array([4001, 4001, 4001, 4001, 4001, 4001]))"
      ]
     },
     "execution_count": 23,
     "metadata": {},
     "output_type": "execute_result"
    }
   ],
   "source": [
    "np.unique(y_o, return_counts=True)"
   ]
  },
  {
   "cell_type": "code",
   "execution_count": 24,
   "id": "fbc11b32",
   "metadata": {
    "execution": {
     "iopub.execute_input": "2023-12-31T13:27:20.226556Z",
     "iopub.status.busy": "2023-12-31T13:27:20.226182Z",
     "iopub.status.idle": "2023-12-31T13:27:21.446532Z",
     "shell.execute_reply": "2023-12-31T13:27:21.445552Z"
    },
    "papermill": {
     "duration": 1.235927,
     "end_time": "2023-12-31T13:27:21.448625",
     "exception": false,
     "start_time": "2023-12-31T13:27:20.212698",
     "status": "completed"
    },
    "tags": []
   },
   "outputs": [
    {
     "data": {
      "image/png": "[encoded data removed]",
      "text/plain": [
       "<Figure size 640x480 with 1 Axes>"
      ]
     },
     "metadata": {},
     "output_type": "display_data"
    },
    {
     "data": {
      "image/png": "[encoded data removed]",
      "text/plain": [
       "<Figure size 640x480 with 1 Axes>"
      ]
     },
     "metadata": {},
     "output_type": "display_data"
    },
    {
     "data": {
      "image/png": "[encoded data removed]",
      "text/plain": [
       "<Figure size 640x480 with 1 Axes>"
      ]
     },
     "metadata": {},
     "output_type": "display_data"
    },
    {
     "data": {
      "image/png": "[encoded data removed]",
      "text/plain": [
       "<Figure size 640x480 with 1 Axes>"
      ]
     },
     "metadata": {},
     "output_type": "display_data"
    },
    {
     "data": {
      "image/png": "[encoded data removed]",
      "text/plain": [
       "<Figure size 640x480 with 1 Axes>"
      ]
     },
     "metadata": {},
     "output_type": "display_data"
    }
   ],
   "source": [
    "for i in range(5):\n",
    "    r = np.random.randint((1), 24000, 1)[0]\n",
    "    plt.figure()\n",
    "    plt.imshow(X[r].reshape(48,48), cmap='gray')\n",
    "    plt.xlabel(label_map[y_o[r]])"
   ]
  },
  {
   "cell_type": "code",
   "execution_count": 25,
   "id": "303054da",
   "metadata": {
    "execution": {
     "iopub.execute_input": "2023-12-31T13:27:21.525479Z",
     "iopub.status.busy": "2023-12-31T13:27:21.525110Z",
     "iopub.status.idle": "2023-12-31T13:27:21.529780Z",
     "shell.execute_reply": "2023-12-31T13:27:21.528903Z"
    },
    "papermill": {
     "duration": 0.022539,
     "end_time": "2023-12-31T13:27:21.531918",
     "exception": false,
     "start_time": "2023-12-31T13:27:21.509379",
     "status": "completed"
    },
    "tags": []
   },
   "outputs": [],
   "source": [
    "X = X.reshape(len(X), 48, 48, 1)"
   ]
  },
  {
   "cell_type": "code",
   "execution_count": 26,
   "id": "f77a7fc9",
   "metadata": {
    "execution": {
     "iopub.execute_input": "2023-12-31T13:27:21.562081Z",
     "iopub.status.busy": "2023-12-31T13:27:21.561782Z",
     "iopub.status.idle": "2023-12-31T13:27:21.567505Z",
     "shell.execute_reply": "2023-12-31T13:27:21.566692Z"
    },
    "papermill": {
     "duration": 0.023404,
     "end_time": "2023-12-31T13:27:21.569569",
     "exception": false,
     "start_time": "2023-12-31T13:27:21.546165",
     "status": "completed"
    },
    "tags": []
   },
   "outputs": [
    {
     "data": {
      "text/plain": [
       "(24006, 48, 48, 1)"
      ]
     },
     "execution_count": 26,
     "metadata": {},
     "output_type": "execute_result"
    }
   ],
   "source": [
    "X.shape"
   ]
  },
  {
   "cell_type": "code",
   "execution_count": 27,
   "id": "df96e977",
   "metadata": {
    "execution": {
     "iopub.execute_input": "2023-12-31T13:27:21.599261Z",
     "iopub.status.busy": "2023-12-31T13:27:21.598977Z",
     "iopub.status.idle": "2023-12-31T13:27:32.543176Z",
     "shell.execute_reply": "2023-12-31T13:27:32.542385Z"
    },
    "papermill": {
     "duration": 10.961692,
     "end_time": "2023-12-31T13:27:32.545472",
     "exception": false,
     "start_time": "2023-12-31T13:27:21.583780",
     "status": "completed"
    },
    "tags": []
   },
   "outputs": [
    {
     "name": "stderr",
     "output_type": "stream",
     "text": [
      "/opt/conda/lib/python3.10/site-packages/scipy/__init__.py:146: UserWarning: A NumPy version >=1.16.5 and <1.23.0 is required for this version of SciPy (detected version 1.24.3\n",
      "  warnings.warn(f\"A NumPy version >={np_minversion} and <{np_maxversion}\"\n"
     ]
    }
   ],
   "source": [
    "from keras.utils import to_categorical\n",
    "y_new = to_categorical(y_o, num_classes=6)"
   ]
  },
  {
   "cell_type": "code",
   "execution_count": 28,
   "id": "1160c979",
   "metadata": {
    "execution": {
     "iopub.execute_input": "2023-12-31T13:27:32.575220Z",
     "iopub.status.busy": "2023-12-31T13:27:32.574615Z",
     "iopub.status.idle": "2023-12-31T13:27:32.580961Z",
     "shell.execute_reply": "2023-12-31T13:27:32.580107Z"
    },
    "papermill": {
     "duration": 0.023192,
     "end_time": "2023-12-31T13:27:32.582933",
     "exception": false,
     "start_time": "2023-12-31T13:27:32.559741",
     "status": "completed"
    },
    "tags": []
   },
   "outputs": [
    {
     "data": {
      "text/plain": [
       "(24006, (24006, 6))"
      ]
     },
     "execution_count": 28,
     "metadata": {},
     "output_type": "execute_result"
    }
   ],
   "source": [
    "len(y_o), y_new.shape"
   ]
  },
  {
   "cell_type": "code",
   "execution_count": 29,
   "id": "3a06bb40",
   "metadata": {
    "execution": {
     "iopub.execute_input": "2023-12-31T13:27:32.611882Z",
     "iopub.status.busy": "2023-12-31T13:27:32.611561Z",
     "iopub.status.idle": "2023-12-31T13:27:32.617687Z",
     "shell.execute_reply": "2023-12-31T13:27:32.616856Z"
    },
    "papermill": {
     "duration": 0.022831,
     "end_time": "2023-12-31T13:27:32.619648",
     "exception": false,
     "start_time": "2023-12-31T13:27:32.596817",
     "status": "completed"
    },
    "tags": []
   },
   "outputs": [
    {
     "data": {
      "text/plain": [
       "(0, array([1., 0., 0., 0., 0., 0.], dtype=float32))"
      ]
     },
     "execution_count": 29,
     "metadata": {},
     "output_type": "execute_result"
    }
   ],
   "source": [
    "y_o[150], y_new[150]"
   ]
  },
  {
   "cell_type": "code",
   "execution_count": 30,
   "id": "050aa68a",
   "metadata": {
    "execution": {
     "iopub.execute_input": "2023-12-31T13:27:32.648696Z",
     "iopub.status.busy": "2023-12-31T13:27:32.648364Z",
     "iopub.status.idle": "2023-12-31T13:27:35.278354Z",
     "shell.execute_reply": "2023-12-31T13:27:35.277514Z"
    },
    "papermill": {
     "duration": 2.647226,
     "end_time": "2023-12-31T13:27:35.280810",
     "exception": false,
     "start_time": "2023-12-31T13:27:32.633584",
     "status": "completed"
    },
    "tags": []
   },
   "outputs": [],
   "source": [
    "from keras.models import Sequential\n",
    "from keras.layers import Conv2D, MaxPooling2D, Flatten, Dense, Dropout, BatchNormalization, Activation\n",
    "\n",
    "model = Sequential()\n",
    "\n",
    "# First convolutional layer with 32 filters\n",
    "model.add(Conv2D(32, (3, 3), activation='relu', input_shape=(64, 64, 3)))\n",
    "model.add(BatchNormalization())\n",
    "model.add(MaxPooling2D(pool_size=(2, 2)))\n",
    "model.add(Dropout(0.25))\n",
    "\n",
    "# Second convolutional layer with 64 filters\n",
    "model.add(Conv2D(64, (3, 3), activation='relu'))\n",
    "model.add(BatchNormalization())\n",
    "model.add(MaxPooling2D(pool_size=(2, 2)))\n",
    "model.add(Dropout(0.25))\n",
    "\n",
    "# Flatten before feeding into dense layers\n",
    "model.add(Flatten())\n",
    "\n",
    "# First dense layer with 128 neurons\n",
    "model.add(Dense(128, activation='relu'))\n",
    "model.add(BatchNormalization())\n",
    "model.add(Dropout(0.5))\n",
    "\n",
    "# Second dense layer with 64 neurons\n",
    "model.add(Dense(64, activation='relu'))\n",
    "model.add(BatchNormalization())\n",
    "model.add(Dropout(0.5))\n",
    "\n",
    "# Output layer with 10 neurons (for 10 classes)\n",
    "model.add(Dense(10, activation='softmax'))\n",
    "\n",
    "# Compile the model\n",
    "model.compile(optimizer='adam', loss='categorical_crossentropy', metrics=['accuracy'])"
   ]
  },
  {
   "cell_type": "code",
   "execution_count": 31,
   "id": "92550990",
   "metadata": {
    "execution": {
     "iopub.execute_input": "2023-12-31T13:27:35.312019Z",
     "iopub.status.busy": "2023-12-31T13:27:35.311584Z",
     "iopub.status.idle": "2023-12-31T13:27:35.492354Z",
     "shell.execute_reply": "2023-12-31T13:27:35.491470Z"
    },
    "papermill": {
     "duration": 0.198923,
     "end_time": "2023-12-31T13:27:35.494683",
     "exception": false,
     "start_time": "2023-12-31T13:27:35.295760",
     "status": "completed"
    },
    "tags": []
   },
   "outputs": [],
   "source": [
    "model = Sequential()\n",
    "\n",
    "\n",
    "input_shape = (48,48,1)\n",
    "\n",
    "\n",
    "model.add(Conv2D(64, (5, 5), input_shape=input_shape,activation='relu', padding='same'))\n",
    "model.add(Conv2D(64, (5, 5), padding='same'))\n",
    "model.add(BatchNormalization())\n",
    "model.add(Activation('relu'))\n",
    "model.add(MaxPooling2D(pool_size=(2, 2)))\n",
    "\n",
    "\n",
    "model.add(Conv2D(128, (5, 5),activation='relu',padding='same'))\n",
    "model.add(Conv2D(128, (5, 5),padding='same'))\n",
    "model.add(BatchNormalization())\n",
    "model.add(Activation('relu'))\n",
    "model.add(MaxPooling2D(pool_size=(2, 2)))\n",
    "\n",
    "model.add(Conv2D(256, (3, 3),activation='relu',padding='same'))\n",
    "model.add(Conv2D(256, (3, 3),activation='relu',padding='same'))\n",
    "model.add(BatchNormalization())\n",
    "model.add(MaxPooling2D(pool_size=(2, 2)))\n",
    "\n",
    "## (15, 15) --->  30\n",
    "model.add(Flatten())\n",
    "model.add(Dense(6, activation='softmax'))\n",
    "\n",
    "model.compile(loss='categorical_crossentropy', metrics=['accuracy'],optimizer='adam')"
   ]
  },
  {
   "cell_type": "code",
   "execution_count": 32,
   "id": "02150f2c",
   "metadata": {
    "execution": {
     "iopub.execute_input": "2023-12-31T13:27:35.525429Z",
     "iopub.status.busy": "2023-12-31T13:27:35.525054Z",
     "iopub.status.idle": "2023-12-31T13:30:59.547953Z",
     "shell.execute_reply": "2023-12-31T13:30:59.546840Z"
    },
    "papermill": {
     "duration": 204.238246,
     "end_time": "2023-12-31T13:30:59.747520",
     "exception": false,
     "start_time": "2023-12-31T13:27:35.509274",
     "status": "completed"
    },
    "tags": []
   },
   "outputs": [
    {
     "name": "stdout",
     "output_type": "stream",
     "text": [
      "Epoch 1/22\n",
      "301/301 [==============================] - 18s 26ms/step - loss: 2.1638 - accuracy: 0.2380 - val_loss: 2.0636 - val_accuracy: 0.1022\n",
      "Epoch 2/22\n",
      "301/301 [==============================] - 7s 23ms/step - loss: 1.7172 - accuracy: 0.3250 - val_loss: 1.8515 - val_accuracy: 0.2659\n",
      "Epoch 3/22\n",
      "301/301 [==============================] - 7s 23ms/step - loss: 1.5303 - accuracy: 0.3994 - val_loss: 1.9257 - val_accuracy: 0.2601\n",
      "Epoch 4/22\n",
      "301/301 [==============================] - 7s 23ms/step - loss: 1.4144 - accuracy: 0.4481 - val_loss: 1.3739 - val_accuracy: 0.4494\n",
      "Epoch 5/22\n",
      "301/301 [==============================] - 7s 23ms/step - loss: 1.3348 - accuracy: 0.4833 - val_loss: 1.5876 - val_accuracy: 0.4188\n",
      "Epoch 6/22\n",
      "301/301 [==============================] - 7s 23ms/step - loss: 1.2611 - accuracy: 0.5102 - val_loss: 2.2952 - val_accuracy: 0.1989\n",
      "Epoch 7/22\n",
      "301/301 [==============================] - 7s 23ms/step - loss: 1.1737 - accuracy: 0.5464 - val_loss: 1.3061 - val_accuracy: 0.5092\n",
      "Epoch 8/22\n",
      "301/301 [==============================] - 7s 24ms/step - loss: 1.1274 - accuracy: 0.5684 - val_loss: 1.5849 - val_accuracy: 0.4221\n",
      "Epoch 9/22\n",
      "301/301 [==============================] - 7s 23ms/step - loss: 1.0536 - accuracy: 0.5987 - val_loss: 1.5388 - val_accuracy: 0.4394\n",
      "Epoch 10/22\n",
      "301/301 [==============================] - 7s 23ms/step - loss: 0.9930 - accuracy: 0.6255 - val_loss: 1.5695 - val_accuracy: 0.4663\n",
      "Epoch 11/22\n",
      "301/301 [==============================] - 7s 23ms/step - loss: 0.9057 - accuracy: 0.6603 - val_loss: 1.3828 - val_accuracy: 0.5127\n",
      "Epoch 12/22\n",
      "301/301 [==============================] - 7s 23ms/step - loss: 0.8349 - accuracy: 0.6910 - val_loss: 2.2792 - val_accuracy: 0.3509\n",
      "Epoch 13/22\n",
      "301/301 [==============================] - 7s 24ms/step - loss: 0.7516 - accuracy: 0.7187 - val_loss: 1.8146 - val_accuracy: 0.4665\n",
      "Epoch 14/22\n",
      "301/301 [==============================] - 7s 24ms/step - loss: 0.6335 - accuracy: 0.7692 - val_loss: 2.3205 - val_accuracy: 0.3582\n",
      "Epoch 15/22\n",
      "301/301 [==============================] - 7s 24ms/step - loss: 0.5316 - accuracy: 0.8079 - val_loss: 2.0357 - val_accuracy: 0.5106\n",
      "Epoch 16/22\n",
      "301/301 [==============================] - 7s 23ms/step - loss: 0.3824 - accuracy: 0.8652 - val_loss: 1.8768 - val_accuracy: 0.5427\n",
      "Epoch 17/22\n",
      "301/301 [==============================] - 7s 23ms/step - loss: 0.2988 - accuracy: 0.8937 - val_loss: 2.0551 - val_accuracy: 0.5521\n",
      "Epoch 18/22\n",
      "301/301 [==============================] - 7s 23ms/step - loss: 0.2472 - accuracy: 0.9173 - val_loss: 2.1802 - val_accuracy: 0.5479\n",
      "Epoch 19/22\n",
      "301/301 [==============================] - 7s 24ms/step - loss: 0.1837 - accuracy: 0.9375 - val_loss: 2.0686 - val_accuracy: 0.5550\n",
      "Epoch 20/22\n",
      "301/301 [==============================] - 7s 23ms/step - loss: 0.1443 - accuracy: 0.9554 - val_loss: 2.8425 - val_accuracy: 0.5140\n",
      "Epoch 21/22\n",
      "301/301 [==============================] - 7s 24ms/step - loss: 0.1371 - accuracy: 0.9564 - val_loss: 2.2904 - val_accuracy: 0.5762\n",
      "Epoch 22/22\n",
      "301/301 [==============================] - 7s 24ms/step - loss: 0.1396 - accuracy: 0.9539 - val_loss: 2.5107 - val_accuracy: 0.5550\n"
     ]
    },
    {
     "data": {
      "text/plain": [
       "<keras.src.callbacks.History at 0x7fec1cf93040>"
      ]
     },
     "execution_count": 32,
     "metadata": {},
     "output_type": "execute_result"
    }
   ],
   "source": [
    "model.fit(X, y_new, epochs=22, batch_size=64, shuffle=True, validation_split=0.2)"
   ]
  },
  {
   "cell_type": "code",
   "execution_count": 33,
   "id": "321db8f0",
   "metadata": {
    "execution": {
     "iopub.execute_input": "2023-12-31T13:31:00.143900Z",
     "iopub.status.busy": "2023-12-31T13:31:00.143487Z",
     "iopub.status.idle": "2023-12-31T13:31:00.248222Z",
     "shell.execute_reply": "2023-12-31T13:31:00.247127Z"
    },
    "papermill": {
     "duration": 0.300831,
     "end_time": "2023-12-31T13:31:00.251151",
     "exception": false,
     "start_time": "2023-12-31T13:30:59.950320",
     "status": "completed"
    },
    "tags": []
   },
   "outputs": [
    {
     "name": "stderr",
     "output_type": "stream",
     "text": [
      "/opt/conda/lib/python3.10/site-packages/keras/src/engine/training.py:3000: UserWarning: You are saving your model as an HDF5 file via `model.save()`. This file format is considered legacy. We recommend using instead the native Keras format, e.g. `model.save('my_model.keras')`.\n",
      "  saving_api.save_model(\n"
     ]
    }
   ],
   "source": [
    "model.save('model.h5')"
   ]
  },
  {
   "cell_type": "code",
   "execution_count": null,
   "id": "3191e4d5",
   "metadata": {
    "papermill": {
     "duration": 0.192927,
     "end_time": "2023-12-31T13:31:00.641130",
     "exception": false,
     "start_time": "2023-12-31T13:31:00.448203",
     "status": "completed"
    },
    "tags": []
   },
   "outputs": [],
   "source": []
  }
 ],
 "metadata": {
  "kaggle": {
   "accelerator": "gpu",
   "dataSources": [
    {
     "datasetId": 31050,
     "sourceId": 39603,
     "sourceType": "datasetVersion"
    }
   ],
   "dockerImageVersionId": 30627,
   "isGpuEnabled": true,
   "isInternetEnabled": true,
   "language": "python",
   "sourceType": "notebook"
  },
  "kernelspec": {
   "display_name": "Python 3",
   "language": "python",
   "name": "python3"
  },
  "language_info": {
   "codemirror_mode": {
    "name": "ipython",
    "version": 3
   },
   "file_extension": ".py",
   "mimetype": "text/x-python",
   "name": "python",
   "nbconvert_exporter": "python",
   "pygments_lexer": "ipython3",
   "version": "3.10.12"
  },
  "papermill": {
   "default_parameters": {},
   "duration": 270.607574,
   "end_time": "2023-12-31T13:31:04.290691",
   "environment_variables": {},
   "exception": null,
   "input_path": "__notebook__.ipynb",
   "output_path": "__notebook__.ipynb",
   "parameters": {},
   "start_time": "2023-12-31T13:26:33.683117",
   "version": "2.4.0"
  }
 },
 "nbformat": 4,
 "nbformat_minor": 5
}
